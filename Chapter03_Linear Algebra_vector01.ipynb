{
 "cells": [
  {
   "cell_type": "markdown",
   "metadata": {},
   "source": [
    "# 벡터의 정의 "
   ]
  },
  {
   "cell_type": "code",
   "execution_count": 5,
   "metadata": {},
   "outputs": [
    {
     "data": {
      "image/png": "[encoded data removed]",
      "text/plain": [
       "<Figure size 432x288 with 1 Axes>"
      ]
     },
     "metadata": {
      "needs_background": "light"
     },
     "output_type": "display_data"
    }
   ],
   "source": [
    "import numpy as np\n",
    "import matplotlib.pyplot as plt\n",
    "\n",
    "a = np.array([4,3])\n",
    "\n",
    "fig = plt.figure()\n",
    "ax = fig.add_subplot(1,1,1)\n",
    "\n",
    "# 벡터를 화살표로 나타냅니다.\n",
    "# 시작점은 원점, 끝점은 벡터[4,3]\n",
    "ax.quiver(0,0,a[0],a[1], angles='xy', scale_units='xy', scale=1)\n",
    "ax.text(a[0]+0.2,a[1]+0.2,'a', size=15)\n",
    "\n",
    "ax.set_xticks(range(0, 7))\n",
    "ax.set_yticks(range(0, 7))\n",
    "\n",
    "ax.grid()\n",
    "ax.set_axisbelow(True)\n",
    "ax.set_aspect('equal', adjustable = 'box')\n",
    "\n",
    "ax.spines['left'].set_position('zero')\n",
    "ax.spines['right'].set_position('zero')\n",
    "ax.spines['top'].set_position('zero')\n",
    "ax.spines['bottom'].set_position('zero')\n",
    "\n",
    "plt.show()"
   ]
  },
  {
   "cell_type": "markdown",
   "metadata": {},
   "source": [
    "### 시작이 다른 벡터"
   ]
  },
  {
   "cell_type": "code",
   "execution_count": 13,
   "metadata": {},
   "outputs": [
    {
     "data": {
      "image/png": "[encoded data removed]",
      "text/plain": [
       "<Figure size 432x288 with 1 Axes>"
      ]
     },
     "metadata": {
      "needs_background": "light"
     },
     "output_type": "display_data"
    }
   ],
   "source": [
    "import numpy as np\n",
    "import matplotlib.pyplot as plt\n",
    "\n",
    "a = np.array([4,3])\n",
    "\n",
    "fig = plt.figure()\n",
    "ax = fig.add_subplot(1,1,1)\n",
    "\n",
    "#원점에서 시작하는 벡터 a\n",
    "ax.quiver(0, 0, a[0], a[1], angles='xy', scale_units='xy', scale=1)\n",
    "# (0,-3) 에서 시작\n",
    "ax.quiver(1, -3, a[0], a[1], angles='xy', scale_units='xy', scale=1)\n",
    "# (1, 2) 에서 시작\n",
    "ax.quiver(1, 2, a[0], a[1], angles='xy', scale_units='xy', scale=1)\n",
    "# (-3,1) 에서 시작\n",
    "ax.quiver(-3, 1, a[0], a[1], angles='xy', scale_units='xy', scale=1)\n",
    "\n",
    "\n",
    "start = -5\n",
    "end = 10\n",
    "\n",
    "ax.set_xticks(range(start, end))\n",
    "ax.set_yticks(range(start, end))\n",
    "\n",
    "ax.grid()\n",
    "ax.set_axisbelow(True)\n",
    "\n",
    "ax.set_aspect('equal', adjustable = 'box')\n",
    "\n",
    "ax.spines['left'].set_position('zero')\n",
    "ax.spines['right'].set_position('zero')\n",
    "ax.spines['top'].set_position('zero')\n",
    "ax.spines['bottom'].set_position('zero')\n",
    "\n"
   ]
  },
  {
   "cell_type": "code",
   "execution_count": 14,
   "metadata": {},
   "outputs": [
    {
     "data": {
      "text/plain": [
       "((2,), (2,))"
      ]
     },
     "execution_count": 14,
     "metadata": {},
     "output_type": "execute_result"
    }
   ],
   "source": [
    "\"\"\"\n",
    "넘파이에서 1차원 배열은 열벡터 또는 행벡터로 사용할 수 있기 때문에 1차원 넘파이 배열의 shape속성에 두번째 항이 없다. \n",
    "그래서 전치 연산을 적용해도 shape에 변화가 없다\n",
    "\"\"\"\n",
    "\n",
    "a = np.array([4,3])\n",
    "a.shape, a.T.shape"
   ]
  },
  {
   "cell_type": "code",
   "execution_count": 19,
   "metadata": {},
   "outputs": [
    {
     "name": "stdout",
     "output_type": "stream",
     "text": [
      "(2,)\n",
      "[[4]\n",
      " [3]]\n",
      "[[4 3]]\n"
     ]
    }
   ],
   "source": [
    "\"\"\"\n",
    "1차원 넘파이 배열의 shape 속성에 크기를 지정하여 엄격히 열벡터 또는 행벡터로 지정하는 것이 가능하다. \n",
    "\"\"\"\n",
    "\n",
    "a = np.array([4,3])\n",
    "\n",
    "print(a.shape)\n",
    "\n",
    "# 1차원 넘파이 배열을 열벡터로 지정하려면 shape 속성의 두 번째 원소로 1을 추가\n",
    "a = a.reshape(2,1) # a.shape = (2,1)\n",
    "print(a)\n",
    "\n",
    "# 1차원 넘파이 배열을 형벡터로 지정하려면 shape 속성의 첫 번째 원소로 1을 추가\n",
    "a.shape = (1,2)\n",
    "print(a)"
   ]
  },
  {
   "cell_type": "markdown",
   "metadata": {},
   "source": [
    "### 기저벡터\n",
    "\n",
    "2차원 좌표계는 기저벡터 i,j 에 의해 구성이 된다."
   ]
  },
  {
   "cell_type": "code",
   "execution_count": 26,
   "metadata": {},
   "outputs": [
    {
     "data": {
      "image/png": "[encoded data removed]",
      "text/plain": [
       "<Figure size 432x288 with 1 Axes>"
      ]
     },
     "metadata": {
      "needs_background": "light"
     },
     "output_type": "display_data"
    }
   ],
   "source": [
    "import numpy as np\n",
    "import matplotlib.pyplot as plt\n",
    "\n",
    "\n",
    "i = np.array([1,0])\n",
    "j = np.array([0,1])\n",
    "\n",
    "# 단위 벡터로 벡터 [4,3]을 나타낼 수 있다.\n",
    "a = 4*i +3*j\n",
    "\n",
    "fig = plt.figure()\n",
    "ax = fig.add_subplot(1,1,1)\n",
    "\n",
    "ax.quiver(0,0, a[0],a[1], angles='xy', scale_units='xy', scale=1)\n",
    "ax.text(a[0],a[1],'4i+3j',size=15)\n",
    "\n",
    "ax.set_xticks(range(0,7))\n",
    "ax.set_yticks(range(0,7))\n",
    "ax.grid()\n",
    "ax.set_axisbelow(True)\n",
    "ax.set_aspect('equal', adjustable='box')\n",
    "\n",
    "ax.spines['left'].set_position('zero')\n",
    "ax.spines['right'].set_position('zero')\n",
    "ax.spines['top'].set_position('zero')\n",
    "ax.spines['bottom'].set_position('zero')\n",
    "\n",
    "plt.show()"
   ]
  },
  {
   "cell_type": "code",
   "execution_count": null,
   "metadata": {},
   "outputs": [],
   "source": []
  }
 ],
 "metadata": {
  "kernelspec": {
   "display_name": "Python 3",
   "language": "python",
   "name": "python3"
  },
  "language_info": {
   "codemirror_mode": {
    "name": "ipython",
    "version": 3
   },
   "file_extension": ".py",
   "mimetype": "text/x-python",
   "name": "python",
   "nbconvert_exporter": "python",
   "pygments_lexer": "ipython3",
   "version": "3.7.4"
  }
 },
 "nbformat": 4,
 "nbformat_minor": 2
}
