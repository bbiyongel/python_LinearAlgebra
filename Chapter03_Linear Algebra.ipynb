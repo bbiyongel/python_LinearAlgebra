{
 "cells": [
  {
   "cell_type": "markdown",
   "metadata": {},
   "source": [
    "# Chapter03 _ Linear Algebra"
   ]
  },
  {
   "cell_type": "markdown",
   "metadata": {},
   "source": [
    "### 맷플롯리브 (matplotlib)"
   ]
  },
  {
   "cell_type": "markdown",
   "metadata": {},
   "source": [
    "### 점그리기"
   ]
  },
  {
   "cell_type": "code",
   "execution_count": 15,
   "metadata": {},
   "outputs": [],
   "source": [
    "# 점 그리기 \n",
    "import numpy as np\n",
    "import matplotlib.pyplot as plt"
   ]
  },
  {
   "cell_type": "code",
   "execution_count": 19,
   "metadata": {},
   "outputs": [
    {
     "data": {
      "image/png": "[encoded data removed]",
      "text/plain": [
       "<Figure size 432x288 with 1 Axes>"
      ]
     },
     "metadata": {
      "needs_background": "light"
     },
     "output_type": "display_data"
    }
   ],
   "source": [
    "# 좌표 (4,3) 지정\n",
    "a = np.array([4,3])\n",
    "\n",
    "# Figure 객체를 만든 후 \n",
    "fig = plt.figure()\n",
    "# 1x1 개의 서브플롯(subplot)을 추가하고, 첫 번째 서브플롯을 사용한다.\n",
    "ax = fig.add_subplot(\n",
    "    #,1,1)\n",
    "\n",
    "# 변수 a의 값을 좌표로 사용하여 점을 그린다.\n",
    "# a[0]이 x좌표 a[1]이 y좌표. s는 점의 크기\n",
    "ax.scatter(a[0],a[1],s=30)\n",
    "\n",
    "# 점 앞에 문자 a를 표시, size는 문자의 크기\n",
    "ax.text(a[0]+0.2, a[1]+0.2, 'string', size =15)\n",
    "\n",
    "# x축, y축 눈금 범위를 -5~5로 지정 [최소 값 <= x < 최대 값]\n",
    "ax.set_xticks(range(-5,6))\n",
    "ax.set_yticks(range(-5,6))\n",
    "\n",
    "# 그리드를 좌표축 아래에 표시\n",
    "ax.grid()\n",
    "ax.set_axisbelow(True)\n",
    "\n",
    "# x축과 y축 눈금의 비율을 1:1로 \n",
    "# 창의 크기를 변경해도 비율이 유지\n",
    "ax.set_aspect('equal' , adjustable='box')\n",
    "\n",
    "# 다음 코드를 사용하여 원점에 좌표축이 보이게 함\n",
    "# 왼쪽 y축과 아래 x축을 (0,0)으로 이동\n",
    "ax.spines['left'].set_position('zero')\n",
    "ax.spines['bottom'].set_position('zero')\n",
    "\n",
    "# 위쪽과 오른쪽 축을 제거\n",
    "ax.spines['left'].set_color('none')\n",
    "ax.spines['left'].set_color('none')\n",
    "\n",
    "\n",
    "plt.show()"
   ]
  },
  {
   "cell_type": "markdown",
   "metadata": {},
   "source": [
    "### 화살표 그리기"
   ]
  },
  {
   "cell_type": "code",
   "execution_count": 22,
   "metadata": {},
   "outputs": [
    {
     "data": {
      "image/png": "[encoded data removed]",
      "text/plain": [
       "<Figure size 432x288 with 1 Axes>"
      ]
     },
     "metadata": {
      "needs_background": "light"
     },
     "output_type": "display_data"
    }
   ],
   "source": [
    "# 벡터 a를 정의\n",
    "a = np.array([4,3])\n",
    "\n",
    "fig = plt.figure()\n",
    "ax = fig.add_subplot(1,1,1)\n",
    "\n",
    "# 시작 위치는 (0,0) 화살표가 그려지는 끝 위치는 변수 a의 값을 좌표로 사용하는 화살표를 그림\n",
    "# a[0]과 a[1]이 각각 끝 위치의 x좌표 , y좌표\n",
    "ax.quiver(0,0, a[0], a[1], angles='xy', scale_units='xy', scale =1)\n",
    "# quiver뜻은 '화살통' ??  2차원 평면 상에서 좌표마다 scaled 된 화살표를 그릴 때 사용됨\n",
    "# 그 아래는 위 코드와 동일합니다.\n",
    "\n",
    "# 점 앞에 문자 a를 표시, size는 문자의 크기\n",
    "ax.text(a[0]+0.2, a[1]+0.2, 'x', size =15)\n",
    "\n",
    "# x축, y축 눈금 범위를 -5~5로 지정 [최소 값 <= x < 최대 값]\n",
    "ax.set_xticks(range(-5,6))\n",
    "ax.set_yticks(range(-5,6))\n",
    "\n",
    "# 그리드를 좌표축 아래에 표시\n",
    "ax.grid()\n",
    "ax.set_axisbelow(True)\n",
    "\n",
    "# x축과 y축 눈금의 비율을 1:1로 \n",
    "# 창의 크기를 변경해도 비율이 유지\n",
    "ax.set_aspect('equal' , adjustable='box')\n",
    "\n",
    "# 다음 코드를 사용하여 원점에 좌표축이 보이게 함\n",
    "# 왼쪽 y축과 아래 x축을 (0,0)으로 이동\n",
    "ax.spines['left'].set_position('zero')\n",
    "ax.spines['bottom'].set_position('zero')\n",
    "\n",
    "# 위쪽과 오른쪽 축을 제거\n",
    "ax.spines['left'].set_color('none')\n",
    "ax.spines['left'].set_color('none')\n",
    "\n",
    "\n",
    "plt.show()"
   ]
  },
  {
   "cell_type": "markdown",
   "metadata": {},
   "source": [
    "### 다수의 서브플롯 사용"
   ]
  },
  {
   "cell_type": "code",
   "execution_count": 25,
   "metadata": {},
   "outputs": [
    {
     "data": {
      "image/png": "[encoded data removed]",
      "text/plain": [
       "<Figure size 432x288 with 2 Axes>"
      ]
     },
     "metadata": {
      "needs_background": "light"
     },
     "output_type": "display_data"
    }
   ],
   "source": [
    "# 벡터 A와 B를 생성\n",
    "A = np.array([1,-2])\n",
    "B = np.array([4,3])\n",
    "\n",
    "\n",
    "# 1개의 행과 2개의 열을 가지는 서브플롯을 생성\n",
    "f, ax = plt.subplots(1,2)\n",
    "\n",
    "# 다음과 같이 인덱스 사용하여 각 서브플롯을 사용\n",
    "# 각 서브플롯 상단에 텍스트를 추가\n",
    "ax[0].title.set_text('A')\n",
    "ax[1].title.set_text('B')\n",
    "\n",
    "# 각 서브플롯에 시작점이 (0,0)인 벡터를 그림\n",
    "ax[0].quiver(0,0, A[0], A[1], angles='xy', scale_units='xy', scale =1)\n",
    "ax[1].quiver(0,0, B[0], B[1], angles='xy', scale_units='xy', scale =1)\n",
    "\n",
    "# 서브플롯별로 그리드를 생성\n",
    "start_x = -1\n",
    "end_x = 5\n",
    "start_y = -3\n",
    "end_y = 4\n",
    "\n",
    "for i in range(2) :\n",
    "    ax[i].axis([start_x, end_x, start_y, end_y])\n",
    "    ax[i].set_xticks(range(start_x, end_x))\n",
    "    ax[i].set_yticks(range(start_x, end_y))\n",
    "    ax[i].grid(True)\n",
    "    ax[i].set_aspect('equal', adjustable='box')\n",
    "\n",
    "plt.show()"
   ]
  },
  {
   "cell_type": "code",
   "execution_count": null,
   "metadata": {},
   "outputs": [],
   "source": []
  }
 ],
 "metadata": {
  "kernelspec": {
   "display_name": "Python 3",
   "language": "python",
   "name": "python3"
  },
  "language_info": {
   "codemirror_mode": {
    "name": "ipython",
    "version": 3
   },
   "file_extension": ".py",
   "mimetype": "text/x-python",
   "name": "python",
   "nbconvert_exporter": "python",
   "pygments_lexer": "ipython3",
   "version": "3.7.4"
  }
 },
 "nbformat": 4,
 "nbformat_minor": 2
}
