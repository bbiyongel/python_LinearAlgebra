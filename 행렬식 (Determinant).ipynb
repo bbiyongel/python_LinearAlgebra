{
 "cells": [
  {
   "cell_type": "markdown",
   "metadata": {},
   "source": [
    "# 행렬식 (Determinant)\n",
    "\n",
    "행렬식은 정사각형 행렬을 실수에 대응시키는 함수이다. ㅕㄴ립 방정식의 해나 역행렬을 구할 때 사용된다.  연립방정식의 계수 행렬에 대한 행렬 식이 0이 아니면 연립 방정식은 해를 가진다. 행렬식이 0이면 해가 무수히 많거나 해가 없는 경우이다. 행렬식이 0이 아닐 때 역행렬이 존재하며, 행렬식이 0이면 역행렬이 존재하지 않는다.  \n",
    "\n",
    "절대 값과 같은 기호를 사용한다. A의 행렬식의 경우 __|A| 또는 det(A)__ 로 표기한다.  "
   ]
  },
  {
   "cell_type": "code",
   "execution_count": 10,
   "metadata": {},
   "outputs": [
    {
     "name": "stdout",
     "output_type": "stream",
     "text": [
      "-2.0000000000000004\n",
      "-9.51619735392994e-16\n",
      "-0.0\n"
     ]
    }
   ],
   "source": [
    "# 넘파이에서는 행렬식 계산을 위해 det함수를 제공한다. \n",
    "\n",
    "import numpy as np\n",
    "\n",
    "A = np.array([10])\n",
    "B = np.array([[1,2],[3,4]])\n",
    "C = np.arange(1,10).reshape(3,3)\n",
    "\n",
    "# 1차원 행렬에 대한 행렬식 계산은 넘파이에서 지원하지 않는다 \n",
    "# np.linalg.det(A)\n",
    "\n",
    "# 2차원 행렬에 대한 determinant\n",
    "print(np.linalg.det(B))\n",
    "\n",
    "# 3차원 행렬에 대한 determinant\n",
    "print(np.linalg.det(C))\n",
    "print(np.linalg.det(C).round())"
   ]
  },
  {
   "cell_type": "markdown",
   "metadata": {},
   "source": [
    "- 행렬식은 2개의 행벡터가 같은 직선 상에 있는지 여부를 나타낸다. 행렬식을 계산한 결과가 0이라면 두 벡터는 같은 직선생에 있는것이다."
   ]
  },
  {
   "cell_type": "code",
   "execution_count": 15,
   "metadata": {},
   "outputs": [
    {
     "name": "stdout",
     "output_type": "stream",
     "text": [
      "[[10  6]\n",
      " [ 5  3]]\n",
      "0.0\n",
      "[[10  5]\n",
      " [ 6  3]]\n",
      "1.1102230246251546e-15\n"
     ]
    }
   ],
   "source": [
    "import numpy as np \n",
    "A = np.array([[10, 6], [5, 3]])\n",
    "\n",
    "# 행렬 A의 두 행벡터는 비례하기 때문에, 즉 같은 직선상의 벡터이므로\n",
    "print(A)\n",
    "# 행렬식은 0가 된다. 역행렬 존재 x\n",
    "print(np.linalg.det(A))\n",
    "\n",
    "# 행렬 A.T 의 두 행벡터는 비례하지 않기 때문에, 즉 같은 직선상의 벡터가 아니므로 \n",
    "print(A.T)\n",
    "# 행렬식은 0이 아니다. 역행렬 존재 O\n",
    "print(np.linalg.det(A.T))"
   ]
  },
  {
   "cell_type": "markdown",
   "metadata": {},
   "source": [
    "2X2 행렬 A에서 A의 열베터에 의해 결정되는 평행사변형의 부피는 |det(A)| 이다. 크기 2x2 인 행렬에 대한 행렬식 ad-bc 는 두 벡터가 만드는 평행사변형의 넓이와 같다.  \n",
    "\n",
    "행렬식을 통하여 변환 행렬의 특성을 확인할 수 있다. 변환 행렬은 다음 3가지를 독자적으로 사용하거나 조합하여 사용한다.  \n",
    "\n",
    "- Translation : 개체를 이동시키는 연산\n",
    "- Scale : 개체를 확대 또는 축소시키는 연산\n",
    "- Rotation : 개체를 회전시키는 연산\n"
   ]
  },
  {
   "cell_type": "code",
   "execution_count": 24,
   "metadata": {},
   "outputs": [
    {
     "name": "stdout",
     "output_type": "stream",
     "text": [
      "4.0\n"
     ]
    },
    {
     "data": {
      "image/png": "[encoded data removed]",
      "text/plain": [
       "<Figure size 432x288 with 1 Axes>"
      ]
     },
     "metadata": {
      "needs_background": "light"
     },
     "output_type": "display_data"
    }
   ],
   "source": [
    "import numpy as np\n",
    "import matplotlib.pyplot as plt\n",
    "import matplotlib.patches as patches\n",
    "\n",
    "points = np.array([[1,1],[1,2],[2,2],[2,1]])\n",
    "A = np.array([[2,0],[0,2]])\n",
    "\n",
    "fig = plt.figure()\n",
    "ax = fig.add_subplot(1,1,1)\n",
    "\n",
    "print(np.linalg.det(A))\n",
    "\n",
    "# add_patch() 함수를 사용하여 직사각형, 원, 직선을 추가합니다. \n",
    "\n",
    "ax.add_patch(patches.Polygon(points, fill=False, color='blue', zorder=1))\n",
    "ax.add_patch(patches.Polygon(np.dot(points,A), fill=False, color='red', zorder=2))\n",
    "ax.text(1.4,1.4,'A',size=15)\n",
    "ax.text(2.9,2.9,'B',size=15)\n",
    "\n",
    "ax.set_xticks(range(-1,6))\n",
    "ax.set_yticks(range(-1,6))\n",
    "\n",
    "ax.grid()\n",
    "ax.set_axisbelow(True)\n",
    "ax.set_aspect('equal', adjustable='box')\n",
    "\n",
    "ax.spines['left'].set_position('zero')\n",
    "ax.spines['bottom'].set_position('zero')"
   ]
  },
  {
   "cell_type": "markdown",
   "metadata": {},
   "source": [
    "'det함수'를 사용하여 행렬 A의 행렬식을 계산해 보면 사각형의 넓이가 4배로 늘어 났음을 알 수 있다. 변환행렬에 따라 det함수 계산 결과가 음수로 나올 수도 있기 때문에 절대 값으로 확인해야 한다."
   ]
  },
  {
   "cell_type": "code",
   "execution_count": null,
   "metadata": {},
   "outputs": [],
   "source": []
  }
 ],
 "metadata": {
  "kernelspec": {
   "display_name": "Python 3",
   "language": "python",
   "name": "python3"
  },
  "language_info": {
   "codemirror_mode": {
    "name": "ipython",
    "version": 3
   },
   "file_extension": ".py",
   "mimetype": "text/x-python",
   "name": "python",
   "nbconvert_exporter": "python",
   "pygments_lexer": "ipython3",
   "version": "3.7.4"
  }
 },
 "nbformat": 4,
 "nbformat_minor": 2
}
