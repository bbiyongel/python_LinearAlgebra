{
 "cells": [
  {
   "cell_type": "markdown",
   "metadata": {},
   "source": [
    "# 행렬의 정의"
   ]
  },
  {
   "cell_type": "code",
   "execution_count": 15,
   "metadata": {},
   "outputs": [
    {
     "name": "stdout",
     "output_type": "stream",
     "text": [
      "[[1 2 3]\n",
      " [4 5 6]]\n",
      "[1 2 3]\n",
      "[[1]\n",
      " [2]\n",
      " [3]]\n"
     ]
    }
   ],
   "source": [
    "# 2 x 3 행렬 A 는 2개의 행과 3개의 열로 구성되어있다.\n",
    "# 벡터도 행렬이다. 하나의 행으로 구성된 행렬 a를 행벡터라 하고,\n",
    "# 하나의 열로 구성된 행렬 b를 열벡터라 한다.\n",
    "import numpy as np\n",
    "\n",
    "# 2 x 3 행렬 a\n",
    "a = np.arange(1,7).reshape(2,3)\n",
    "print(a)\n",
    "\n",
    "# 행벡터 b\n",
    "b = np.array([1,2,3])\n",
    "print(b)\n",
    "\n",
    "# 열벡터 c\n",
    "c = np.array([1,2,3])\n",
    "c.shape = (3, 1)\n",
    "print(c)"
   ]
  },
  {
   "cell_type": "code",
   "execution_count": 20,
   "metadata": {},
   "outputs": [
    {
     "name": "stdout",
     "output_type": "stream",
     "text": [
      "[[ True  True]\n",
      " [ True  True]]\n",
      "[[ True False]\n",
      " [False  True]]\n",
      "True\n",
      "False\n"
     ]
    }
   ],
   "source": [
    "# 두 행렬의 행의 수와 열의 수가 같을 때 두 행렬의 크기가 같다고 한다. 두 행렬 A,B가 같으려면 두 행렬의 크기가 같으며 대응하는 원소가 모두 같아야 한다.\n",
    "\n",
    "A = np.array([[1,2], [3,4]])\n",
    "B = np.array([[1,2], [3,4]])\n",
    "C = np.array([[1,3], [4,4]])\n",
    "\n",
    "# == 연산자를 사용하여 원소별로 비교결과 리턴\n",
    "print(A == B)\n",
    "print(A == C)\n",
    "\n",
    "# all 메소드를 사용하여 두 행렬이 같은지 리턴\n",
    "print((A==B).all())\n",
    "print((A==C).all())"
   ]
  },
  {
   "cell_type": "code",
   "execution_count": 25,
   "metadata": {},
   "outputs": [
    {
     "name": "stdout",
     "output_type": "stream",
     "text": [
      "[1 2 3 4]\n",
      "[5 6 7 8]\n",
      "[1 5]\n",
      "[2 6]\n",
      "[3 7]\n",
      "[4 8]\n"
     ]
    }
   ],
   "source": [
    "# 행을 구성하는 열벡터와 행벡터를 구하는 방법\n",
    "import numpy as np\n",
    "\n",
    "A = np.array([[1,2,3,4],[5,6,7,8]])\n",
    "A\n",
    "\n",
    "# 행렬 A를 구성하는 행벡터들 출력\n",
    "print(A[0,:]) # A[0]\n",
    "print(A[1,:]) # A[1]\n",
    "\n",
    "# 행렬 A를 구성하는 열벡터들 출력\n",
    "print(A[:,0])\n",
    "print(A[:,1])\n",
    "print(A[:,2])\n",
    "print(A[:,3])"
   ]
  },
  {
   "cell_type": "code",
   "execution_count": 32,
   "metadata": {},
   "outputs": [
    {
     "data": {
      "text/plain": [
       "(2, 4)"
      ]
     },
     "execution_count": 32,
     "metadata": {},
     "output_type": "execute_result"
    }
   ],
   "source": [
    "len(A[:,]), len(A[0,:]) , "
   ]
  },
  {
   "cell_type": "markdown",
   "metadata": {},
   "source": [
    "### 전치\n",
    "\n",
    "행렬을 구성하는 원소의 열 인덱스와 행 인덱스를 바꾸는 것을 전치라 한다."
   ]
  },
  {
   "cell_type": "code",
   "execution_count": 37,
   "metadata": {},
   "outputs": [
    {
     "name": "stdout",
     "output_type": "stream",
     "text": [
      "[[1 2]\n",
      " [3 4]\n",
      " [5 6]] (3, 2) \n",
      "\n",
      "[[1 3 5]\n",
      " [2 4 6]] (2, 3) \n",
      "\n"
     ]
    },
    {
     "data": {
      "text/plain": [
       "array([[1, 3, 5],\n",
       "       [2, 4, 6]])"
      ]
     },
     "execution_count": 37,
     "metadata": {},
     "output_type": "execute_result"
    }
   ],
   "source": [
    "# 넘파이에선 전치 연산을 'transpose 함수' 또는 넘파이 배열의 T 메소드를 사용한다.\n",
    "import numpy as np\n",
    "\n",
    "X = np.arange(1,7).reshape(3,2)\n",
    "print(X,X.shape ,\"\\n\")\n",
    "\n",
    "print(X.T, X.T.shape ,\"\\n\" )\n",
    "\n",
    "np.transpose(X)"
   ]
  },
  {
   "cell_type": "markdown",
   "metadata": {},
   "source": [
    "### 항등 행렬과 역행렬\n",
    "\n",
    "대각선 원소만 1이고 나머지는 0인 행렬을 __'항등 행렬(identity matrix)'__ 라고 한다."
   ]
  },
  {
   "cell_type": "code",
   "execution_count": 49,
   "metadata": {},
   "outputs": [],
   "source": [
    "# 넘파이에서는 'eye 함수'를 사용하여 항등 해열ㄹ을 만든다\n",
    "# 항등행렬에 어떤 값을 곱하면 그대로 자기 자신값을 갖습니다.\n",
    "\n",
    "import numpy as np\n",
    "\n",
    "I = np.eye(3)"
   ]
  },
  {
   "cell_type": "code",
   "execution_count": 50,
   "metadata": {},
   "outputs": [
    {
     "data": {
      "text/plain": [
       "array([[1., 0., 0.],\n",
       "       [0., 1., 0.],\n",
       "       [0., 0., 1.]])"
      ]
     },
     "execution_count": 50,
     "metadata": {},
     "output_type": "execute_result"
    }
   ],
   "source": [
    "I"
   ]
  },
  {
   "cell_type": "code",
   "execution_count": 51,
   "metadata": {},
   "outputs": [
    {
     "data": {
      "text/plain": [
       "array([[0, 1, 2],\n",
       "       [3, 4, 5],\n",
       "       [6, 7, 8]])"
      ]
     },
     "execution_count": 51,
     "metadata": {},
     "output_type": "execute_result"
    }
   ],
   "source": [
    "A = np.arange(9).reshape(3,3)\n",
    "A"
   ]
  },
  {
   "cell_type": "code",
   "execution_count": 53,
   "metadata": {},
   "outputs": [
    {
     "name": "stdout",
     "output_type": "stream",
     "text": [
      "True\n",
      "True\n"
     ]
    }
   ],
   "source": [
    "print((np.dot(A,I) == A).all())\n",
    "print((np.dot(I,A) == A).all())"
   ]
  },
  {
   "cell_type": "markdown",
   "metadata": {},
   "source": [
    "### 역행렬\n",
    "\n",
    "역행렬을 구할 수 없는 행렬을 '특이 행렬' (Singular matrix)라고 합니다.  \n",
    "크기가 3 x 3 이상인 행렬의 경우 보통 '가우스 소거법' Gaussian elimination 을 사용하여 역행렬을 구한다.  \n",
    "\n",
    "!['가우시안 소거법'](https://wikimedia.org/api/rest_v1/media/math/render/svg/65c5c95d6260b9701d259277bc165ce6e5d1acf3)\n",
    "https://ko.wikipedia.org/wiki/%EA%B0%80%EC%9A%B0%EC%8A%A4_%EC%86%8C%EA%B1%B0%EB%B2%95\n"
   ]
  },
  {
   "cell_type": "code",
   "execution_count": 54,
   "metadata": {},
   "outputs": [
    {
     "data": {
      "text/plain": [
       "array([[-1,  1,  2],\n",
       "       [ 0,  2,  7],\n",
       "       [ 0,  2,  2]])"
      ]
     },
     "execution_count": 54,
     "metadata": {},
     "output_type": "execute_result"
    }
   ],
   "source": [
    "# 넘파이에서는 'inv 함수'를 사용하여 역행렬을 구한다.\n",
    "import numpy as np\n",
    "\n",
    "A = np.array([[-1,1,2],\n",
    "              [0,2,7],\n",
    "              [0,2,2]\n",
    "             ])\n",
    "A"
   ]
  },
  {
   "cell_type": "code",
   "execution_count": 55,
   "metadata": {},
   "outputs": [
    {
     "data": {
      "text/plain": [
       "array([[-1. ,  0.2,  0.3],\n",
       "       [ 0. , -0.2,  0.7],\n",
       "       [-0. ,  0.2, -0.2]])"
      ]
     },
     "execution_count": 55,
     "metadata": {},
     "output_type": "execute_result"
    }
   ],
   "source": [
    "invA = np.linalg.inv(A)\n",
    "invA"
   ]
  },
  {
   "cell_type": "code",
   "execution_count": 57,
   "metadata": {},
   "outputs": [
    {
     "name": "stdout",
     "output_type": "stream",
     "text": [
      "[[ 1.00000000e+00  0.00000000e+00  0.00000000e+00]\n",
      " [ 0.00000000e+00  1.00000000e+00  5.55111512e-17]\n",
      " [ 0.00000000e+00 -5.55111512e-17  1.00000000e+00]]\n",
      "[[ 1.  0.  0.]\n",
      " [ 0.  1.  0.]\n",
      " [ 0. -0.  1.]]\n"
     ]
    }
   ],
   "source": [
    "# A * invA 가 I 임을 확인\n",
    "# 파이썬에서 결과 값이 근사값으로 출력되기 떄문에 \n",
    "# np.round 를 사용하여 함수를 사용 한다.\n",
    "print(np.dot(A,invA))\n",
    "\n",
    "# round 함수를 사용하면 항등 행렬로 보임\n",
    "print(np.round(np.dot(A,invA)))"
   ]
  },
  {
   "cell_type": "code",
   "execution_count": null,
   "metadata": {},
   "outputs": [],
   "source": []
  }
 ],
 "metadata": {
  "kernelspec": {
   "display_name": "Python 3",
   "language": "python",
   "name": "python3"
  },
  "language_info": {
   "codemirror_mode": {
    "name": "ipython",
    "version": 3
   },
   "file_extension": ".py",
   "mimetype": "text/x-python",
   "name": "python",
   "nbconvert_exporter": "python",
   "pygments_lexer": "ipython3",
   "version": "3.7.4"
  }
 },
 "nbformat": 4,
 "nbformat_minor": 2
}
