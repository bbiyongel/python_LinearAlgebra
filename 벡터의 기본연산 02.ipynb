{
 "cells": [
  {
   "cell_type": "markdown",
   "metadata": {},
   "source": [
    "# 벡터의 기본 연산"
   ]
  },
  {
   "cell_type": "code",
   "execution_count": 1,
   "metadata": {},
   "outputs": [
    {
     "data": {
      "text/plain": [
       "(array([2, 4]), array([2, 4]))"
      ]
     },
     "execution_count": 1,
     "metadata": {},
     "output_type": "execute_result"
    }
   ],
   "source": [
    "# 벡터의 덧샘\n",
    "import numpy as np\n",
    "\n",
    "a = np.array([4,1])\n",
    "b = np.array([-2,3])\n",
    "\n",
    "# 넘파이에서는 '+연산자' 와 'add 함수'를 사용하여 덧셈을 계산\n",
    "a+b , np.add(a,b)"
   ]
  },
  {
   "cell_type": "markdown",
   "metadata": {},
   "source": [
    "벡터의 연산을 기하적으로 나태보도록 하겠습니다"
   ]
  },
  {
   "cell_type": "code",
   "execution_count": 10,
   "metadata": {},
   "outputs": [
    {
     "data": {
      "image/png": "[encoded data removed]",
      "text/plain": [
       "<Figure size 432x288 with 1 Axes>"
      ]
     },
     "metadata": {
      "needs_background": "light"
     },
     "output_type": "display_data"
    }
   ],
   "source": [
    "import numpy as np\n",
    "import matplotlib.pyplot as plt\n",
    "\n",
    "a = np.array([4,1])\n",
    "b = np.array([-2,3])\n",
    "sumv = a+b\n",
    "\n",
    "fig = plt.figure()\n",
    "ax = fig.add_subplot(1,1,1)\n",
    "\n",
    "# 벡터 a를 원점에서 시작하도록\n",
    "ax.quiver(0,0, a[0],a[1], angles='xy', scale_units='xy', scale=1)\n",
    "ax.text(a[0],a[1],'a',size=15)\n",
    "\n",
    "\n",
    "# 벡터 b를 벡터 a의 끝점에서 시작\n",
    "ax.quiver(a[0],a[1],b[0],b[1], angles='xy', scale_units='xy', scale=1)\n",
    "# 좌표 주의\n",
    "ax.text(a[0]+b[0], a[1]+b[1], \"b\", size =15)\n",
    "\n",
    "# 벡터의 합을 그리면 벡터 a의 시작점과 벡터b의 끝점을 잇는 벡터가 그려집니다.\n",
    "ax.quiver(0,0,sumv[0],sumv[1], angles='xy', scale_units ='xy', scale=1)\n",
    "ax.text(sumv[0]*0.5 +0.3, sumv[1]*0.5, \"a+b\", size=15, color='blue')\n",
    "\n",
    "ax.set_xticks(range(0,7))\n",
    "ax.set_yticks(range(0,7))\n",
    "ax.grid()\n",
    "ax.set_axisbelow(True)\n",
    "ax.set_aspect('equal', adjustable='box')\n",
    "\n",
    "plt.show()"
   ]
  },
  {
   "cell_type": "code",
   "execution_count": 12,
   "metadata": {},
   "outputs": [
    {
     "data": {
      "text/plain": [
       "(array([ 6, -2]), array([ 6, -2]))"
      ]
     },
     "execution_count": 12,
     "metadata": {},
     "output_type": "execute_result"
    }
   ],
   "source": [
    "# 벡터의 뺄셈\n",
    "# 넘파이에서 뻴셈은 '-연산자와' , 'subtract 함수'를 사용하여 뻴셈연산을 수행\n",
    "\n",
    "a = np.array([4,1])\n",
    "b = np.array([-2,3])\n",
    "\n",
    "a-b, np.subtract(a,b)"
   ]
  },
  {
   "cell_type": "code",
   "execution_count": null,
   "metadata": {},
   "outputs": [],
   "source": []
  },
  {
   "cell_type": "code",
   "execution_count": 20,
   "metadata": {},
   "outputs": [
    {
     "data": {
      "image/png": "[encoded data removed]",
      "text/plain": [
       "<Figure size 432x288 with 1 Axes>"
      ]
     },
     "metadata": {
      "needs_background": "light"
     },
     "output_type": "display_data"
    }
   ],
   "source": [
    "import numpy as np\n",
    "import matplotlib.pyplot as plt \n",
    "\n",
    "a = np.array([4,1])\n",
    "b = np.array([-2,3])\n",
    "sub = a-b\n",
    "\n",
    "fig = plt.figure()\n",
    "ax = fig.add_subplot(1,1,1)\n",
    "\n",
    "# 벡터 a를 원점에서 시작\n",
    "ax.quiver(0,0,a[0],a[1], angles='xy', scale_units='xy', scale=1)\n",
    "ax.text(a[0],a[1],'a',size=15)\n",
    "\n",
    "# 벡터 a 끝점에서 시작하는 반대 방향의 벡터 b를 그림\n",
    "ax.quiver(a[0],a[1],-b[0],-b[1], angles='xy', scale_units='xy', scale=1)\n",
    "ax.text(a[0]-b[0], a[1]-b[1], \"-b\", size=15)\n",
    "\n",
    "# 두 벡터의 뺼샘 결과를 그려 보자 , a의 시점과 벡터 b의 끝점을 잇는 선\n",
    "ax.quiver(0,0, sub[0],sub[1],angles='xy', scale_units='xy', scale=1)\n",
    "ax.text(sub[0]*0.5+0.3,sub[1]*0.5,'a-b',size=15)\n",
    "\n",
    "ax.set_xticks(range(-2,8))\n",
    "ax.set_yticks(range(-4,5))\n",
    "ax.grid()\n",
    "ax.set_axisbelow(True)\n",
    "ax.set_aspect('equal', adjustable='box')\n",
    "\n"
   ]
  },
  {
   "cell_type": "markdown",
   "metadata": {},
   "source": [
    "### 스칼라 곱"
   ]
  },
  {
   "cell_type": "code",
   "execution_count": 23,
   "metadata": {},
   "outputs": [
    {
     "data": {
      "text/plain": [
       "(array([12,  3]), array([12,  3]))"
      ]
     },
     "execution_count": 23,
     "metadata": {},
     "output_type": "execute_result"
    }
   ],
   "source": [
    "# 넘파이에서는 \"* 연산자와\" \"multiply 함수\" 를 사용하여 스칼라 곱을 계산\n",
    "import numpy as np\n",
    "\n",
    "a = np.array([4,1])\n",
    "c = 3\n",
    "a * c , np.multiply(a,c)\n",
    "# 벡터에 양(+)의 스칼라를 곱하면 벡터의 방향은 변하지 않고 크기만 변한다."
   ]
  },
  {
   "cell_type": "code",
   "execution_count": 26,
   "metadata": {},
   "outputs": [
    {
     "data": {
      "image/png": "[encoded data removed]",
      "text/plain": [
       "<Figure size 432x288 with 1 Axes>"
      ]
     },
     "metadata": {
      "needs_background": "light"
     },
     "output_type": "display_data"
    }
   ],
   "source": [
    "import numpy as np\n",
    "import matplotlib.pyplot as plt\n",
    "\n",
    "a = np.array([4,1])\n",
    "c = 3\n",
    "ca = np.multiply(a,c)\n",
    "\n",
    "fig = plt.figure()\n",
    "ax = fig.add_subplot(1,1,1)\n",
    "\n",
    "# 벡터 a 원점(0,0)에서 시작\n",
    "ax.quiver(0,0,a[0],a[1],angles='xy', scale_units='xy', scale=1)\n",
    "ax.text(a[0],a[1],'a',size=15)\n",
    "\n",
    "# 벡터 3a 점 (0,1) 에서 시작\n",
    "ax.quiver(0,1, ca[0],ca[1], angles='xy', scale_units='xy', scale=1)\n",
    "ax.text(ca[0],ca[1], '3a', size=15)\n",
    "\n",
    "ax.set_xticks(range(-2,15))\n",
    "ax.set_yticks(range(-3,9))\n",
    "ax.grid()\n",
    "ax.set_axisbelow(True)\n",
    "\n",
    "ax.set_aspect('equal', adjustable='box')\n",
    "\n",
    "ax.spines['left'].set_position('zero')\n",
    "ax.spines['bottom'].set_position('zero')\n",
    "ax.spines['right'].set_position('zero')\n",
    "ax.spines['top'].set_position('zero')\n",
    "\n",
    "plt.show()"
   ]
  },
  {
   "cell_type": "markdown",
   "metadata": {},
   "source": [
    "### 내적"
   ]
  },
  {
   "cell_type": "code",
   "execution_count": 28,
   "metadata": {},
   "outputs": [
    {
     "data": {
      "text/plain": [
       "8"
      ]
     },
     "execution_count": 28,
     "metadata": {},
     "output_type": "execute_result"
    }
   ],
   "source": [
    "# 두 벡터에 대해 '내적 (dot product)'은 다음과 같이 정의되며 계산 결과는 스칼라 입니다.\n",
    "# 내적은 대응하는 성분끼리 곱해서 모두 더하는것입니다,\n",
    "# 넘파이에선 내적 계산을 위해 'dot 함수'를 사용\n",
    "\n",
    "import numpy as np\n",
    "a = np.array([1,2])\n",
    "b = np.array([2,3])\n",
    "\n",
    "c = np.dot(a,b)\n",
    "c"
   ]
  },
  {
   "cell_type": "code",
   "execution_count": 29,
   "metadata": {},
   "outputs": [
    {
     "data": {
      "text/plain": [
       "(2.23606797749979, 2.23606797749979)"
      ]
     },
     "execution_count": 29,
     "metadata": {},
     "output_type": "execute_result"
    }
   ],
   "source": [
    "# 넘파이에서는 벡터의 크기를 계산하기 위한 'norm함수' 를 제공\n",
    "# linalg 는 linear algebra 약\n",
    "np.linalg.norm(a), np.sqrt(5)"
   ]
  },
  {
   "cell_type": "code",
   "execution_count": 2,
   "metadata": {},
   "outputs": [
    {
     "name": "stdout",
     "output_type": "stream",
     "text": [
      "2.23606797749979\n",
      "2.23606797749979\n"
     ]
    }
   ],
   "source": [
    "# 벡터 자기 자신에 대한 내적의 제곱근은 벡터의 크기와 같다.\n",
    "import numpy as np\n",
    "a = np.array([1,2])\n",
    "\n",
    "# 자기 자신에 대한 내적의 제곱근\n",
    "print(np.sqrt(np.dot(a,a)))\n",
    "\n",
    "# 벡터의 크기\n",
    "print(np.linalg.norm(a))"
   ]
  },
  {
   "cell_type": "code",
   "execution_count": 4,
   "metadata": {},
   "outputs": [
    {
     "name": "stdout",
     "output_type": "stream",
     "text": [
      "9\n"
     ]
    },
    {
     "data": {
      "text/plain": [
       "9.0"
      ]
     },
     "execution_count": 4,
     "metadata": {},
     "output_type": "execute_result"
    }
   ],
   "source": [
    "# 내적 a*b는 벡터 b에 정사영하여 구해지는 벡터와 벡터b를 곱한 것\n",
    "# 아래는 각도가 45도를 이루고 있는 벡터 a와 벡터 b의 내적을 구하느 2가지 방법\n",
    "\n",
    "a = np.array([3,3])\n",
    "b = np.array([3,0])\n",
    "\n",
    "# 첫번째 내적 계산법\n",
    "print(np.dot(a,b))\n",
    "\n",
    "# 두번째 방법\n",
    "norm_a = np.linalg.norm(a)\n",
    "norm_b = np.linalg.norm(b)\n",
    "norm_a * norm_b *np.cos(np.pi/4)"
   ]
  },
  {
   "cell_type": "code",
   "execution_count": 5,
   "metadata": {},
   "outputs": [
    {
     "data": {
      "text/plain": [
       "0"
      ]
     },
     "execution_count": 5,
     "metadata": {},
     "output_type": "execute_result"
    }
   ],
   "source": [
    "# 내적이 0이면 두 벡터 a,b가 이루는 각도는 90도\n",
    "a = np.array([3,0])\n",
    "b = np.array([0,3])\n",
    "\n",
    "np.dot(a,b)"
   ]
  },
  {
   "cell_type": "markdown",
   "metadata": {},
   "source": [
    "### 외적\n",
    "\n",
    "평행하지 않는 두 벡터 v,w 를 '외적(cross product)' 하면 두 벡터에 수직인 벡터를 구할 수 있다.\n",
    "![](http://www.ktword.co.kr/img_data/4233_1.JPG)"
   ]
  },
  {
   "cell_type": "code",
   "execution_count": 6,
   "metadata": {},
   "outputs": [
    {
     "data": {
      "text/plain": [
       "array([0, 0, 7])"
      ]
     },
     "execution_count": 6,
     "metadata": {},
     "output_type": "execute_result"
    }
   ],
   "source": [
    "# numpy 에선 cross 함수를 사용하여 외적을 계산할 수 있다.\n",
    "import numpy as np\n",
    "v = np.array([5, 3 ,0])\n",
    "w = np.array([1, 2, 0])\n",
    "\n",
    "np.cross(v,w)"
   ]
  },
  {
   "cell_type": "code",
   "execution_count": 23,
   "metadata": {},
   "outputs": [
    {
     "ename": "NotImplementedError",
     "evalue": "It is not currently possible to manually set the aspect on 3D axes",
     "output_type": "error",
     "traceback": [
      "\u001b[1;31m---------------------------------------------------------------------------\u001b[0m",
      "\u001b[1;31mNotImplementedError\u001b[0m                       Traceback (most recent call last)",
      "\u001b[1;32m<ipython-input-23-265ed1aba3a9>\u001b[0m in \u001b[0;36m<module>\u001b[1;34m\u001b[0m\n\u001b[0;32m     34\u001b[0m \u001b[0max\u001b[0m\u001b[1;33m.\u001b[0m\u001b[0mgrid\u001b[0m\u001b[1;33m(\u001b[0m\u001b[1;33m)\u001b[0m\u001b[1;33m\u001b[0m\u001b[1;33m\u001b[0m\u001b[0m\n\u001b[0;32m     35\u001b[0m \u001b[0max\u001b[0m\u001b[1;33m.\u001b[0m\u001b[0mset_axisbelow\u001b[0m\u001b[1;33m(\u001b[0m\u001b[1;32mTrue\u001b[0m\u001b[1;33m)\u001b[0m\u001b[1;33m\u001b[0m\u001b[1;33m\u001b[0m\u001b[0m\n\u001b[1;32m---> 36\u001b[1;33m \u001b[0max\u001b[0m\u001b[1;33m.\u001b[0m\u001b[0mset_aspect\u001b[0m\u001b[1;33m(\u001b[0m\u001b[1;34m'equal'\u001b[0m\u001b[1;33m,\u001b[0m \u001b[0madjustable\u001b[0m\u001b[1;33m=\u001b[0m\u001b[1;34m'box'\u001b[0m\u001b[1;33m)\u001b[0m\u001b[1;33m\u001b[0m\u001b[1;33m\u001b[0m\u001b[0m\n\u001b[0m\u001b[0;32m     37\u001b[0m \u001b[1;33m\u001b[0m\u001b[0m\n\u001b[0;32m     38\u001b[0m \u001b[0mplt\u001b[0m\u001b[1;33m.\u001b[0m\u001b[0mshow\u001b[0m\u001b[1;33m(\u001b[0m\u001b[1;33m)\u001b[0m\u001b[1;33m\u001b[0m\u001b[1;33m\u001b[0m\u001b[0m\n",
      "\u001b[1;32m~\\Anaconda3\\lib\\site-packages\\matplotlib\\axes\\_base.py\u001b[0m in \u001b[0;36mset_aspect\u001b[1;34m(self, aspect, adjustable, anchor, share)\u001b[0m\n\u001b[0;32m   1279\u001b[0m         \u001b[1;32mif\u001b[0m \u001b[1;33m(\u001b[0m\u001b[1;32mnot\u001b[0m \u001b[0mcbook\u001b[0m\u001b[1;33m.\u001b[0m\u001b[0m_str_equal\u001b[0m\u001b[1;33m(\u001b[0m\u001b[0maspect\u001b[0m\u001b[1;33m,\u001b[0m \u001b[1;34m'auto'\u001b[0m\u001b[1;33m)\u001b[0m\u001b[1;33m)\u001b[0m \u001b[1;32mand\u001b[0m \u001b[0mself\u001b[0m\u001b[1;33m.\u001b[0m\u001b[0mname\u001b[0m \u001b[1;33m==\u001b[0m \u001b[1;34m'3d'\u001b[0m\u001b[1;33m:\u001b[0m\u001b[1;33m\u001b[0m\u001b[1;33m\u001b[0m\u001b[0m\n\u001b[0;32m   1280\u001b[0m             raise NotImplementedError(\n\u001b[1;32m-> 1281\u001b[1;33m                 \u001b[1;34m'It is not currently possible to manually set the aspect '\u001b[0m\u001b[1;33m\u001b[0m\u001b[1;33m\u001b[0m\u001b[0m\n\u001b[0m\u001b[0;32m   1282\u001b[0m                 'on 3D axes')\n\u001b[0;32m   1283\u001b[0m \u001b[1;33m\u001b[0m\u001b[0m\n",
      "\u001b[1;31mNotImplementedError\u001b[0m: It is not currently possible to manually set the aspect on 3D axes"
     ]
    },
    {
     "data": {
      "image/png": "[encoded data removed]",
      "text/plain": [
       "<Figure size 432x288 with 1 Axes>"
      ]
     },
     "metadata": {
      "needs_background": "light"
     },
     "output_type": "display_data"
    }
   ],
   "source": [
    "import numpy as np\n",
    "import matplotlib.pyplot as plt\n",
    "from mpl_toolkits.mplot3d import Axes3D\n",
    "\n",
    "v = np.array([5, 3 ,0])\n",
    "w = np.array([1, 2, 0])\n",
    "\n",
    "c = np.cross(v,w)\n",
    "\n",
    "fig = plt.figure()\n",
    "ax = fig.add_subplot(1,1,1, projection='3d')\n",
    "\n",
    "# 벡터 v그리기\n",
    "ax.quiver(0, 0, 0, v[0],v[1],v[2], color = 'black', arrow_length_ratio = 0.1)\n",
    "ax.text (v[0], v[1], v[2], 'v', size=15)\n",
    "\n",
    "# 벡터 w그리기\n",
    "ax.quiver(0, 0, 0, w[0], w[1], w[2], color = 'black', arrow_length_ratio = 0.1)\n",
    "ax.text(w[0], w[1], w[2], 'w', size=15)\n",
    "\n",
    "# 벡터 v,w의 외적\n",
    "ax.quiver(0, 0, 0, c[0], c[1], c[2], color = 'blue' , arrow_length_ratio = 0.1)\n",
    "ax.text(c[0], c[1], c[2], 'c', size=15)\n",
    "\n",
    "ax.set_xlim(0,7)\n",
    "ax.set_ylim(0,7)\n",
    "ax.set_zlim(0,8)\n",
    "\n",
    "ax.set_xlabel('X')\n",
    "ax.set_ylabel('Y')\n",
    "ax.set_zlabel('Z')\n",
    "\n",
    "ax.view_init(elev=20., azim=5)\n",
    "ax.grid()\n",
    "ax.set_axisbelow(True)\n",
    "ax.set_aspect('equal', adjustable='box')\n",
    "\n",
    "plt.show()"
   ]
  },
  {
   "cell_type": "markdown",
   "metadata": {},
   "source": [
    "그러면 위에서 배웠든 w,v 는 c와 내적값이 0일까?"
   ]
  },
  {
   "cell_type": "code",
   "execution_count": 24,
   "metadata": {},
   "outputs": [
    {
     "data": {
      "text/plain": [
       "(0, 0)"
      ]
     },
     "execution_count": 24,
     "metadata": {},
     "output_type": "execute_result"
    }
   ],
   "source": [
    "np.dot(c,w), np.dot(c,v)"
   ]
  },
  {
   "cell_type": "code",
   "execution_count": 25,
   "metadata": {},
   "outputs": [
    {
     "data": {
      "text/plain": [
       "array([0, 0, 0])"
      ]
     },
     "execution_count": 25,
     "metadata": {},
     "output_type": "execute_result"
    }
   ],
   "source": [
    "# 두 벡터가 평행하면 외적은 0 이다.\n",
    "\n",
    "a = np.array([3,3,0])\n",
    "b = np.array([6,6,0])\n",
    "\n",
    "np.cross(a,b)"
   ]
  },
  {
   "cell_type": "code",
   "execution_count": null,
   "metadata": {},
   "outputs": [],
   "source": []
  }
 ],
 "metadata": {
  "kernelspec": {
   "display_name": "Python 3",
   "language": "python",
   "name": "python3"
  },
  "language_info": {
   "codemirror_mode": {
    "name": "ipython",
    "version": 3
   },
   "file_extension": ".py",
   "mimetype": "text/x-python",
   "name": "python",
   "nbconvert_exporter": "python",
   "pygments_lexer": "ipython3",
   "version": "3.7.4"
  }
 },
 "nbformat": 4,
 "nbformat_minor": 2
}
