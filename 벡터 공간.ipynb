{
 "cells": [
  {
   "cell_type": "markdown",
   "metadata": {},
   "source": [
    "# 벡터 공간\n",
    "\n",
    "같은 개수의 성분을 가진 벡터로 구성된 집합 V가 있을 때 다음 두 조건을 만족하면 벡터 집합V를 __'벡터 공간 (vector space)'__ 라고 한다.\n",
    "이때 벡터 u,v,w는 벡터 집합 V의 원소이며, a,b는 임의의 스칼라이다. \n",
    "\n",
    "    1. 벡터 집합 V에 속하는 임의의 벡터의 선형 결합이 벡터 집합 V에 속한다.\n",
    "        - u 가 V에 속하고, v가 V에 속하면, au+bv 또한 V에 속해야 한다.\n",
    "          \n",
    "    2. 벡터의 덧셈과 스칼라 곱에 8가지 조건을 만족한다 \n",
    "        1. (u+v)+w = u+(v+w)\n",
    "        2. u+v = v+u\n",
    "        3. u+0 = 0+u = 0\n",
    "        4. -u+u = 0\n",
    "        5. a(bu) = (ab)u\n",
    "        6. 1v = v\n",
    "        7. a(u+v) = au+av\n",
    "        8. (a+b)v = av+bv"
   ]
  },
  {
   "cell_type": "markdown",
   "metadata": {},
   "source": [
    "### 부분공간\n",
    "\n",
    "벡터 공간V의 부분집합인 W가 다음 3가지 조건을 만족하면 부분 __'부분공간 (sub space)'__ 라고 한다.\n",
    "    \n",
    "    1. 영벡터가 부분 공간의 원소, 0 < W\n",
    "    \n",
    "    2. 벡터 v1과 v2가 부분 공간 W의 원소라면 v1+v2도 부분 공간 W의 원소이다.\n",
    "    즉, 덧셈에 대해 닫혀있다.\n",
    "    \n",
    "    3. c를 실수 스칼라 할 때 부분 공간 W의 원소 v1에 임의의 스칼라 c를 곱한 cv1 도 부분 공간 W의 원소가 된다.\n",
    "    즉, 스칼라곱에 대해 닫혀 있다.\n",
    "    \n",
    "V는 벡터 집합 S={v1,v2,v3..vn} 의 원소와 임의의 스칼라 n개의 스칼라 c1,c2,c3...cn의 선형 결합으로 만들 수 있는 모든 벡터의 집합이다. \n",
    "V가 부분 공간이 되려면 벡터 집합 S의 원소 벡터는 선형 독립이여야 한다. 선형 독립의 의미는 벡터 집합 S의 원소의 조합으로 집합 내 다른 벡터를 나타낼 수 없음을 의미한다. 이때 벡터 집합 S는 부분 공갑 V의 기저 (basis)가 된다. 벡터 집합 S가 부분 공간 V를 생성한다는 의미는 부분공간의 어떤 벡터도 S의 원소를 사용하여 만들수 있다는 의미이다."
   ]
  },
  {
   "cell_type": "markdown",
   "metadata": {},
   "source": [
    "### 기저 \n",
    "__'기저(basis)'__ 는 벡터 공간 V에 속한 벡터로 벡터 공간 V의 모든 벡터를 생성할 수 있는 벡터 집합이다. 기저가 되려면 다음 2개지 조건을 만족해야 한다.\n",
    "\n",
    "    1. 벡터 집합은 선형 동립이어야 한다.\n",
    "        ex) i=[1,0] , j=[0,1] \n",
    "        c1i + c2j = 0 을만족하는 스칼라가 c1,c2 =0 일때 뿐이기 때문에 벡터 i,j는 선형 독립이다.\n",
    "        \n",
    "    2. 벡터공간 V에 속하는 임의의 벡터 y를 생성할 수 있는 스칼라 c1,c2,c3...cn 조합이 하나만 존재해야 한다.\n",
    "        ex) 임의의 벡터 y = [3,10]을 맍고하는 스칼라 c1,c2의 조합은 c1=3, c2=10 하나만 존재한다.\n",
    "        \n",
    "    위의 조건을 모두 만족하기 때문에 벡터 i,j는 기저 벡터이다. 부분 공간의 모든 벡터를 만들 수 있느 ㄴ기저는 하나만 존재하지 않습니다."
   ]
  },
  {
   "cell_type": "markdown",
   "metadata": {},
   "source": [
    "### 생성\n",
    "\n",
    "벡터집합 S = {v1,v2,v3,..,vn}가 주어질 때 벡터 집합 S의 원소와 임의의 스칼라 c1,c2,c3,...,cn 의 선형 결합으로 만들 수 있는 모든 벡터의 집합을 S의 __'생성(span)'__ 이라고 한다.  \n",
    "스칼라 c1,c2,c3,...,cn 는 선형 결합의 __'개수(coefficient)'__ 이다.  \n",
    "벡터 집합 S에 속하는 벡터가 선형 독립이면, 생성(span)의 기저가 되며 기저 벡터의 성분 개수를 차원이라고 한다."
   ]
  },
  {
   "cell_type": "code",
   "execution_count": 21,
   "metadata": {},
   "outputs": [
    {
     "data": {
      "image/png": "[encoded data removed]",
      "text/plain": [
       "<Figure size 432x288 with 1 Axes>"
      ]
     },
     "metadata": {
      "needs_background": "light"
     },
     "output_type": "display_data"
    }
   ],
   "source": [
    "# 평면인 경우의 span\n",
    "# 두벡터로 만들어지는 생성(span) 은 2차원공간 R^2 와 같다.\n",
    "\n",
    "import numpy as np\n",
    "import matplotlib.pyplot as plt\n",
    "from matplotlib.patches import Rectangle, Arrow\n",
    "\n",
    "a = np.array([2,1])\n",
    "b = np.array([-3,2])\n",
    "\n",
    "fig = plt.figure()\n",
    "ax = fig.add_subplot(1,1,1)\n",
    "\n",
    "# a,b 에 의해 만들어지는 생성(span)을 그림\n",
    "for c1 in np.linspace(-3,3,10) :\n",
    "    for c2 in np.linspace(-3,3,10) :\n",
    "        c1_a = a*c1\n",
    "        c2_b = b*c2\n",
    "        sums = c1_a+c2_b\n",
    "        plt.scatter(sums[0],sums[1],color=\"blue\")\n",
    "        \n",
    "ax.quiver(0,0,a[0],a[1], angles='xy', scale_units='xy', scale=1, color='red')\n",
    "ax.text(a[0],a[1],'a',size=15)\n",
    "\n",
    "ax.quiver(0,0,b[0],b[1], angles='xy', scale_units='xy', scale=1, color=\"red\")\n",
    "ax.text(b[0],b[1],'b',size=15)\n",
    "\n",
    "ax.set_xticks(range(-16,16))\n",
    "ax.set_yticks(range(-12,12))\n",
    "ax.grid()\n",
    "ax.set_axisbelow(True)\n",
    "\n",
    "ax.spines['left'].set_position('zero')\n",
    "ax.spines['bottom'].set_position('zero')\n",
    "ax.spines['right'].set_position('zero')\n",
    "ax.spines['top'].set_position('zero')"
   ]
  },
  {
   "cell_type": "markdown",
   "metadata": {},
   "source": [
    "여기선 linspace를 이용해 평면내 한정된 일부만 그렸지만 , 조금만 더 생각해 본다면 벡터 2개만으로도 평면의 모든 벡터를 나타낼 수 있음을 짐작할 수 있다. "
   ]
  },
  {
   "cell_type": "code",
   "execution_count": null,
   "metadata": {},
   "outputs": [],
   "source": []
  }
 ],
 "metadata": {
  "kernelspec": {
   "display_name": "Python 3",
   "language": "python",
   "name": "python3"
  },
  "language_info": {
   "codemirror_mode": {
    "name": "ipython",
    "version": 3
   },
   "file_extension": ".py",
   "mimetype": "text/x-python",
   "name": "python",
   "nbconvert_exporter": "python",
   "pygments_lexer": "ipython3",
   "version": "3.7.4"
  }
 },
 "nbformat": 4,
 "nbformat_minor": 2
}
