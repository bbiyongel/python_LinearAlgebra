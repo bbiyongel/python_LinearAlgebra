{
 "cells": [
  {
   "cell_type": "markdown",
   "metadata": {},
   "source": [
    "# 벡터와 행렬 간 곱"
   ]
  },
  {
   "cell_type": "code",
   "execution_count": 6,
   "metadata": {},
   "outputs": [
    {
     "name": "stdout",
     "output_type": "stream",
     "text": [
      "[1.4 3.2 5. ]\n",
      "[1.4 3.2 5. ]\n",
      "[1.4 3.2 5. ]\n"
     ]
    }
   ],
   "source": [
    "import numpy as np\n",
    "\n",
    "A = np.arange(1,10).reshape(3,3)\n",
    "x = np.array([0.1,0.2,0.3])\n",
    "\n",
    "# dot 함수를 사용하여 Ax를 계산\n",
    "print(np.dot(A,x))\n",
    "\n",
    "# 행렬의 열을 벡터로 만들어 계산\n",
    "v1 = A[:, 0]\n",
    "v2 = A[:, 1]\n",
    "v3 = A[:, 2]\n",
    "\n",
    "print(np.dot(x[0],v1) + np.dot(x[1],v2) + np.dot(x[2],v3))\n",
    "\n",
    "w1 = A[0]\n",
    "w2 = A[1]\n",
    "w3 = A[2]\n",
    "\n",
    "c = np.array([np.dot(w1,x),np.dot(w2,x),np.dot(w3,x)])\n",
    "print(c)"
   ]
  },
  {
   "cell_type": "code",
   "execution_count": null,
   "metadata": {},
   "outputs": [],
   "source": []
  }
 ],
 "metadata": {
  "kernelspec": {
   "display_name": "Python 3",
   "language": "python",
   "name": "python3"
  },
  "language_info": {
   "codemirror_mode": {
    "name": "ipython",
    "version": 3
   },
   "file_extension": ".py",
   "mimetype": "text/x-python",
   "name": "python",
   "nbconvert_exporter": "python",
   "pygments_lexer": "ipython3",
   "version": "3.7.4"
  }
 },
 "nbformat": 4,
 "nbformat_minor": 2
}
